{
 "cells": [
  {
   "cell_type": "code",
   "execution_count": 1,
   "id": "4ce37d99-dad3-4a9b-b828-6c00a3ffebb1",
   "metadata": {},
   "outputs": [
    {
     "ename": "AttributeError",
     "evalue": "module 'cv2' has no attribute 'CAP_PROP_CODEC_LIST'",
     "output_type": "error",
     "traceback": [
      "\u001b[0;31m---------------------------------------------------------------------------\u001b[0m",
      "\u001b[0;31mAttributeError\u001b[0m                            Traceback (most recent call last)",
      "Cell \u001b[0;32mIn [1], line 3\u001b[0m\n\u001b[1;32m      1\u001b[0m \u001b[38;5;28;01mimport\u001b[39;00m \u001b[38;5;21;01mcv2\u001b[39;00m\n\u001b[0;32m----> 3\u001b[0m \u001b[38;5;28;01mfor\u001b[39;00m codec \u001b[38;5;129;01min\u001b[39;00m \u001b[43mcv2\u001b[49m\u001b[38;5;241;43m.\u001b[39;49m\u001b[43mCAP_PROP_CODEC_LIST\u001b[49m:\n\u001b[1;32m      4\u001b[0m   \u001b[38;5;28mprint\u001b[39m(codec)\n",
      "\u001b[0;31mAttributeError\u001b[0m: module 'cv2' has no attribute 'CAP_PROP_CODEC_LIST'"
     ]
    }
   ],
   "source": [
    "import cv2\n",
    "\n",
    "for codec in cv2.CAP_PROP_CODEC_LIST:\n",
    "  print(codec)"
   ]
  },
  {
   "cell_type": "code",
   "execution_count": null,
   "id": "768b9e53-193f-4e39-b12a-8f493a44c626",
   "metadata": {},
   "outputs": [],
   "source": []
  }
 ],
 "metadata": {
  "kernelspec": {
   "display_name": "Python 3 (ipykernel)",
   "language": "python",
   "name": "python3"
  },
  "language_info": {
   "codemirror_mode": {
    "name": "ipython",
    "version": 3
   },
   "file_extension": ".py",
   "mimetype": "text/x-python",
   "name": "python",
   "nbconvert_exporter": "python",
   "pygments_lexer": "ipython3",
   "version": "3.9.16"
  }
 },
 "nbformat": 4,
 "nbformat_minor": 5
}
